{
 "cells": [
  {
   "cell_type": "code",
   "execution_count": 45,
   "id": "c61a7bb0",
   "metadata": {},
   "outputs": [],
   "source": [
    "import numpy as np"
   ]
  },
  {
   "cell_type": "code",
   "execution_count": 46,
   "id": "024433df",
   "metadata": {},
   "outputs": [
    {
     "name": "stdout",
     "output_type": "stream",
     "text": [
      "[[ 1  2  3  4  5]\n",
      " [ 6  7  8  9 10]\n",
      " [11 12 13 14 15]\n",
      " [16 17 18 19 20]\n",
      " [21 22 23 24 25]]\n"
     ]
    }
   ],
   "source": [
    "#Q.1 Write a NumPy program to create a 5×5 matrix with values 1,2,3,…,25.\n",
    "matrix = np.arange(1,26).reshape(5,5)\n",
    "print(matrix)"
   ]
  },
  {
   "cell_type": "code",
   "execution_count": 47,
   "id": "acfc5559",
   "metadata": {},
   "outputs": [
    {
     "name": "stdout",
     "output_type": "stream",
     "text": [
      "[[1. 0. 0. 0.]\n",
      " [0. 1. 0. 0.]\n",
      " [0. 0. 1. 0.]\n",
      " [0. 0. 0. 1.]]\n"
     ]
    }
   ],
   "source": [
    "#Q.2 Generate a 4×4 identity matrix using NumPy.\n",
    "identity_matrix = np.eye(4)\n",
    "print(identity_matrix)\n"
   ]
  },
  {
   "cell_type": "code",
   "execution_count": 48,
   "id": "8134ce0d",
   "metadata": {},
   "outputs": [
    {
     "name": "stdout",
     "output_type": "stream",
     "text": [
      "[100 110 120 130 140 150 160 170 180 190 200]\n"
     ]
    }
   ],
   "source": [
    "#Q.3 Create a 1D array of numbers from 100 to 200 with step size 10.\n",
    "array_1d = np.arange(100, 201, 10)\n",
    "print(array_1d)"
   ]
  },
  {
   "cell_type": "code",
   "execution_count": 49,
   "id": "71f11f82",
   "metadata": {},
   "outputs": [
    {
     "name": "stdout",
     "output_type": "stream",
     "text": [
      "Random 3x3 Matrix:\n",
      "[[2 1 5]\n",
      " [3 7 5]\n",
      " [3 1 6]]\n",
      "Determinant:\n",
      "-19.000000000000014\n"
     ]
    }
   ],
   "source": [
    "#Q.4 Generate a random 3×3 matrix and find its determinant.\n",
    "matrix_3x3 = np.random.randint(size=(3, 3), low=1, high=10)\n",
    "determinant = np.linalg.det(matrix_3x3)\n",
    "print(\"Random 3x3 Matrix:\")\n",
    "print(matrix_3x3)\n",
    "print(\"Determinant:\")\n",
    "print(determinant)"
   ]
  },
  {
   "cell_type": "code",
   "execution_count": 50,
   "id": "25824a27",
   "metadata": {},
   "outputs": [
    {
     "name": "stdout",
     "output_type": "stream",
     "text": [
      "[10 81 57 97  2  1 63 22 17 88]\n"
     ]
    }
   ],
   "source": [
    "# Q.5 Create a NumPy array of 10 random integers between 1 and 100. \n",
    "random_integers = np.random.randint(1, 101, size=10)\n",
    "print(random_integers)"
   ]
  },
  {
   "cell_type": "code",
   "execution_count": 51,
   "id": "465c8e82",
   "metadata": {},
   "outputs": [
    {
     "name": "stdout",
     "output_type": "stream",
     "text": [
      "[[ 1  2  3  4]\n",
      " [ 5  6  7  8]\n",
      " [ 9 10 11 12]]\n"
     ]
    }
   ],
   "source": [
    "# Q.6 Write a program to reshape a 1D array of size 12 into a 3×4 matrix.\n",
    "array_1d = np.arange(1,13)\n",
    "array_reshaped = array_1d.reshape(3,4)\n",
    "print(array_reshaped)"
   ]
  },
  {
   "cell_type": "code",
   "execution_count": 52,
   "id": "c652fb12",
   "metadata": {},
   "outputs": [
    {
     "name": "stdout",
     "output_type": "stream",
     "text": [
      "[[ 30  24  18]\n",
      " [ 84  69  54]\n",
      " [138 114  90]]\n"
     ]
    }
   ],
   "source": [
    "#Q.7 Create two 3×3 matrices and perform matrix multiplication.\n",
    "\n",
    "a = np.array([[1,2,3],[4,5,6],[7,8,9]])\n",
    "b = np.array([[9,8,7],[6,5,4],[3,2,1]])\n",
    "# matrix_multiplication = np.dot(a,b)\n",
    "# matrix_multiplication = a @ b\n",
    "matrix_multiplication = np.matmul(a,b)\n",
    "print(matrix_multiplication)\n"
   ]
  },
  {
   "cell_type": "code",
   "execution_count": 53,
   "id": "e4741630",
   "metadata": {},
   "outputs": [
    {
     "name": "stdout",
     "output_type": "stream",
     "text": [
      "Eigenvalues:\n",
      "[-0.37228132  5.37228132]\n",
      "Eigenvectors:\n",
      "[[-0.82456484 -0.41597356]\n",
      " [ 0.56576746 -0.90937671]]\n"
     ]
    }
   ],
   "source": [
    "# Q.8 Find eigenvalues and eigenvectors of a given 2×2 matrix using NumPy.\n",
    "matrix_2x2 = np.arange(1,5).reshape(2,2)\n",
    "eigenvalues, eigenvectors = np.linalg.eig(matrix_2x2)\n",
    "print(\"Eigenvalues:\")\n",
    "print(eigenvalues)\n",
    "print(\"Eigenvectors:\")\n",
    "print(eigenvectors)"
   ]
  },
  {
   "cell_type": "code",
   "execution_count": 54,
   "id": "ce52a041",
   "metadata": {},
   "outputs": [
    {
     "name": "stdout",
     "output_type": "stream",
     "text": [
      "Random Matrix:\n",
      "[[0.06288882 0.7908418  0.81274774 0.00809558 0.55040091]\n",
      " [0.20511805 0.70874508 0.29551754 0.13261442 0.73935214]\n",
      " [0.73866902 0.94310511 0.56005428 0.33878703 0.3107149 ]\n",
      " [0.93938378 0.90796565 0.35613017 0.4895837  0.23639497]\n",
      " [0.26181346 0.4525902  0.07131536 0.40404222 0.23961921]]\n",
      "Diagonal Elements:\n",
      "[0.06288882 0.70874508 0.56005428 0.4895837  0.23961921]\n"
     ]
    }
   ],
   "source": [
    "#Q.9 Create a 5×5 matrix with random values and extract its diagonal elements.\n",
    "random_matrix = np.random.rand(5, 5)\n",
    "diagonal_elements = np.diagonal(random_matrix)\n",
    "print(\"Random Matrix:\")\n",
    "print(random_matrix)\n",
    "print(\"Diagonal Elements:\")\n",
    "print(diagonal_elements)"
   ]
  },
  {
   "cell_type": "code",
   "execution_count": 55,
   "id": "43aeb744",
   "metadata": {},
   "outputs": [
    {
     "name": "stdout",
     "output_type": "stream",
     "text": [
      "Original Array:\n",
      "[ 10  20  30  40  50  60  70  80  90 100]\n",
      "Normalized Array:\n",
      "[0.         0.11111111 0.22222222 0.33333333 0.44444444 0.55555556\n",
      " 0.66666667 0.77777778 0.88888889 1.        ]\n"
     ]
    }
   ],
   "source": [
    "# Q.10 Generate a 1D array and normalize it (scale values between 0 and 1).\n",
    "# array_1d = np.random.randint(1, 101, size=10)\n",
    "array_1d = np.array([10, 20, 30, 40, 50, 60, 70, 80, 90, 100])\n",
    "# normalized_array = [(array_1d_ele - np.min(array_1d)) / (np.max(array_1d) - np.min(array_1d)) for array_1d_ele in array_1d]\n",
    "normalized_array = (array_1d - np.min(array_1d)) / (np.max(array_1d) - np.min(array_1d))\n",
    "print(\"Original Array:\")\n",
    "print(array_1d) \n",
    "print(\"Normalized Array:\")\n",
    "print(normalized_array)"
   ]
  },
  {
   "cell_type": "code",
   "execution_count": 56,
   "id": "0a9243f8",
   "metadata": {},
   "outputs": [
    {
     "name": "stdout",
     "output_type": "stream",
     "text": [
      "Original Array:\n",
      "[[47 25 56 91]\n",
      " [27 83 35  2]\n",
      " [12 90  8 28]\n",
      " [57 41 80 98]]\n",
      "Sorted by Row:\n",
      "[[25 47 56 91]\n",
      " [ 2 27 35 83]\n",
      " [ 8 12 28 90]\n",
      " [41 57 80 98]]\n",
      "Sorted by Column:\n",
      "[[12 25  8  2]\n",
      " [27 41 35 28]\n",
      " [47 83 56 91]\n",
      " [57 90 80 98]]\n"
     ]
    }
   ],
   "source": [
    "#Q.11 Write a program to sort a NumPy array by row and column.\n",
    "array_2d = np.random.randint(1, 101, size=(4,4))\n",
    "sorted_by_row = np.sort(array_2d, axis=1)\n",
    "sorted_by_column = np.sort(array_2d, axis=0)\n",
    "print(\"Original Array:\")\n",
    "print(array_2d)\n",
    "print(\"Sorted by Row:\")\n",
    "print(sorted_by_row)\n",
    "print(\"Sorted by Column:\")\n",
    "print(sorted_by_column)"
   ]
  },
  {
   "cell_type": "code",
   "execution_count": 57,
   "id": "97c5c69b",
   "metadata": {},
   "outputs": [
    {
     "name": "stdout",
     "output_type": "stream",
     "text": [
      "Array:\n",
      "[ 1 96 33 74 73 61 79 97 72 41]\n",
      "Index of Maximum Value: 7\n",
      "Index of Minimum Value: 0\n"
     ]
    }
   ],
   "source": [
    "#Q.12 Find the indices of maximum and minimum values in a NumPy array.\n",
    "array_1d = np.random.randint(1, 101, size=10)\n",
    "max_index = np.argmax(array_1d)\n",
    "min_index = np.argmin(array_1d)\n",
    "print(\"Array:\")\n",
    "print(array_1d)\n",
    "print(\"Index of Maximum Value:\", max_index)\n",
    "print(\"Index of Minimum Value:\", min_index)\n"
   ]
  },
  {
   "cell_type": "code",
   "execution_count": 58,
   "id": "55ad984d",
   "metadata": {},
   "outputs": [
    {
     "name": "stdout",
     "output_type": "stream",
     "text": [
      "Original Array:\n",
      "[[1 2 3]\n",
      " [4 5 6]\n",
      " [7 8 9]]\n",
      "Flattened using ravel():\n",
      "[1 2 3 4 5 6 7 8 9]\n",
      "Flattened using flatten():\n",
      "[1 2 3 4 5 6 7 8 9]\n"
     ]
    }
   ],
   "source": [
    "#Q.13 Create a 2D array and flatten it using ravel() and flatten().\n",
    "array_2d = np.array([[1, 2, 3], [4, 5, 6], [7, 8, 9]])\n",
    "flattened_ravel = array_2d.ravel()\n",
    "flattened_flatten = array_2d.flatten()\n",
    "print(\"Original Array:\")\n",
    "print(array_2d)\n",
    "print(\"Flattened using ravel():\")\n",
    "print(flattened_ravel)\n",
    "print(\"Flattened using flatten():\")\n",
    "print(flattened_flatten)"
   ]
  },
  {
   "cell_type": "code",
   "execution_count": 59,
   "id": "2a71cce3",
   "metadata": {},
   "outputs": [
    {
     "name": "stdout",
     "output_type": "stream",
     "text": [
      "Original Matrix:\n",
      "[[1 2 3]\n",
      " [0 1 4]\n",
      " [5 6 0]]\n",
      "Inverse Matrix:\n",
      "[[-24.  18.   5.]\n",
      " [ 20. -15.  -4.]\n",
      " [ -5.   4.   1.]]\n"
     ]
    }
   ],
   "source": [
    "#Q.14 Create a 3×3 matrix and compute its inverse using NumPy.\n",
    "matrix_3x3 = np.array([[1, 2, 3], [0, 1, 4], [5, 6, 0]])\n",
    "inverse_matrix = np.linalg.inv(matrix_3x3)\n",
    "print(\"Original Matrix:\")\n",
    "print(matrix_3x3)\n",
    "print(\"Inverse Matrix:\")\n",
    "print(inverse_matrix)"
   ]
  },
  {
   "cell_type": "code",
   "execution_count": 60,
   "id": "3722a193",
   "metadata": {},
   "outputs": [
    {
     "name": "stdout",
     "output_type": "stream",
     "text": [
      "Random Permutation:\n",
      "[ 8  9  4 10  5  6  3  2  1  7]\n"
     ]
    }
   ],
   "source": [
    "#Q.15 Write a NumPy program to generate a random permutation of numbers 1 to 10.\n",
    "permutation = np.random.permutation(np.arange(1, 11))\n",
    "print(\"Random Permutation:\")\n",
    "print(permutation)"
   ]
  },
  {
   "cell_type": "code",
   "execution_count": 61,
   "id": "80bb0219",
   "metadata": {},
   "outputs": [
    {
     "name": "stdout",
     "output_type": "stream",
     "text": [
      "Modified Array:\n",
      "[-1  1 -1  3 -1  5 -1  7 -1  9 -1 11 -1 13 -1 15 -1 17 -1 19 -1]\n"
     ]
    }
   ],
   "source": [
    "#Q.16 Create a NumPy array with values from 0 to 20 and replace all even numbers with -1.\n",
    "array_1d = np.arange(21)\n",
    "array_1d[array_1d % 2 == 0] = -1\n",
    "print(\"Modified Array:\")\n",
    "print(array_1d)"
   ]
  },
  {
   "cell_type": "code",
   "execution_count": 62,
   "id": "296f3075",
   "metadata": {},
   "outputs": [
    {
     "name": "stdout",
     "output_type": "stream",
     "text": [
      "Dot Product:\n",
      "32\n"
     ]
    }
   ],
   "source": [
    "#Q.17 Write a program to compute the dot product of two arrays.\n",
    "array1 = np.array([1, 2, 3])\n",
    "array2 = np.array([4, 5, 6])\n",
    "dot_product = np.dot(array1, array2)\n",
    "print(\"Dot Product:\")\n",
    "print(dot_product)\n"
   ]
  },
  {
   "cell_type": "code",
   "execution_count": 63,
   "id": "9a124858",
   "metadata": {},
   "outputs": [
    {
     "name": "stdout",
     "output_type": "stream",
     "text": [
      "Original Matrix:\n",
      "[[0.02208355 0.21202634 0.61027191 0.90052902 0.51304205]\n",
      " [0.25844075 0.88270619 0.411113   0.77746907 0.54706801]\n",
      " [0.71246378 0.05536546 0.61234492 0.38495851 0.99121414]\n",
      " [0.38586727 0.7483853  0.62470536 0.76203838 0.06042936]\n",
      " [0.16715325 0.29107525 0.32028792 0.48846862 0.21748136]]\n",
      "Trace of the Matrix:\n",
      "2.4966543953004923\n"
     ]
    }
   ],
   "source": [
    "#Q.18 Generate a 5×5 random matrix and compute its trace.\n",
    "matrix_5x5 = np.random.rand(5, 5)\n",
    "trace = np.trace(matrix_5x5)\n",
    "print(\"Original Matrix:\")\n",
    "print(matrix_5x5)\n",
    "print(\"Trace of the Matrix:\")\n",
    "print(trace)"
   ]
  },
  {
   "cell_type": "code",
   "execution_count": 87,
   "id": "b4337c72",
   "metadata": {},
   "outputs": [
    {
     "name": "stdout",
     "output_type": "stream",
     "text": [
      "Original Array:\n",
      "[0 1 2 3 4 5 6 7 8]\n",
      "Split Arrays:\n",
      "[0 1 2]\n",
      "[3 4 5]\n",
      "[6 7 8]\n"
     ]
    }
   ],
   "source": [
    "#Q.19 Write a NumPy program to split a 1D array into 3 equal parts.\n",
    "arr= np.arange(9)\n",
    "part1, part2, part3 = np.array_split(arr, 3)\n",
    "print(\"Original Array:\")\n",
    "print(arr)\n",
    "print(\"Split Arrays:\")\n",
    "print(part1)\n",
    "print(part2)\n",
    "print(part3)"
   ]
  },
  {
   "cell_type": "code",
   "execution_count": 88,
   "id": "16414335",
   "metadata": {},
   "outputs": [
    {
     "name": "stdout",
     "output_type": "stream",
     "text": [
      "Original 3D Array:\n",
      "[[[0.5054347  0.47838799 0.02206673]\n",
      "  [0.8071434  0.05366213 0.42790774]\n",
      "  [0.90014603 0.60402552 0.35935244]]\n",
      "\n",
      " [[0.38862511 0.45891712 0.3307652 ]\n",
      "  [0.90872603 0.15652448 0.0820638 ]\n",
      "  [0.72883389 0.90478893 0.73121502]]\n",
      "\n",
      " [[0.97159536 0.82852876 0.07649119]\n",
      "  [0.58330358 0.45132976 0.34687226]\n",
      "  [0.12748256 0.23557811 0.83002807]]]\n",
      "Mean across axis 0:\n",
      "[[0.62188506 0.58861129 0.14310771]\n",
      " [0.766391   0.22050545 0.2856146 ]\n",
      " [0.58548749 0.58146419 0.64019851]]\n"
     ]
    }
   ],
   "source": [
    "#Q.20 Create a 3D array of shape (3,3,3) and find its mean across axis=0.\n",
    "array_3d = np.random.rand(3, 3, 3)\n",
    "mean_axis0 = np.mean(array_3d, axis=0)\n",
    "print(\"Original 3D Array:\")\n",
    "print(array_3d)\n",
    "print(\"Mean across axis 0:\")\n",
    "print(mean_axis0)"
   ]
  },
  {
   "cell_type": "code",
   "execution_count": 89,
   "id": "74b51aa3",
   "metadata": {},
   "outputs": [
    {
     "name": "stdout",
     "output_type": "stream",
     "text": [
      "Original Array:\n",
      "[1 2 3 4 5]\n",
      "Cumulative Sum:\n",
      "[ 1  3  6 10 15]\n"
     ]
    }
   ],
   "source": [
    "#Q.21 Write a program to find the cumulative sum of a NumPy array.\n",
    "arr = np.array([1, 2, 3, 4, 5])\n",
    "cumulative_sum = np.cumsum(arr)\n",
    "print(\"Original Array:\")\n",
    "print(arr)\n",
    "print(\"Cumulative Sum:\")\n",
    "print(cumulative_sum)"
   ]
  },
  {
   "cell_type": "code",
   "execution_count": 90,
   "id": "b8edacf4",
   "metadata": {},
   "outputs": [
    {
     "name": "stdout",
     "output_type": "stream",
     "text": [
      "Original 4x4 Matrix:\n",
      "[[51 13 70 75]\n",
      " [83 89 20 61]\n",
      " [37 37 75 76]\n",
      " [28 52 22 60]]\n",
      "Upper Triangular Matrix:\n",
      "[[51 13 70 75]\n",
      " [ 0 89 20 61]\n",
      " [ 0  0 75 76]\n",
      " [ 0  0  0 60]]\n"
     ]
    }
   ],
   "source": [
    "#Q.22 Create a 4×4 matrix with random integers and extract its upper triangular matrix.\n",
    "matrix_4x4 = np.random.randint(1, 101, size=(4,4))\n",
    "upper_triangular = np.triu(matrix_4x4)\n",
    "print(\"Original 4x4 Matrix:\")\n",
    "print(matrix_4x4)\n",
    "print(\"Upper Triangular Matrix:\")\n",
    "print(upper_triangular)"
   ]
  },
  {
   "cell_type": "code",
   "execution_count": 91,
   "id": "060a957f",
   "metadata": {},
   "outputs": [
    {
     "name": "stdout",
     "output_type": "stream",
     "text": [
      "Checkerboard Pattern:\n",
      "[[0 1 0 1 0 1]\n",
      " [1 0 1 0 1 0]\n",
      " [0 1 0 1 0 1]\n",
      " [1 0 1 0 1 0]\n",
      " [0 1 0 1 0 1]\n",
      " [1 0 1 0 1 0]]\n"
     ]
    }
   ],
   "source": [
    "#Q.23 Write a program to generate a matrix of size 6×6 with checkerboard pattern (0,1).\n",
    "checkerboard = np.zeros((6,6), dtype=int)\n",
    "checkerboard[1::2, ::2] = 1\n",
    "checkerboard[::2, 1::2] = 1\n",
    "print(\"Checkerboard Pattern:\")\n",
    "print(checkerboard)"
   ]
  },
  {
   "cell_type": "code",
   "execution_count": 92,
   "id": "107450e4",
   "metadata": {},
   "outputs": [
    {
     "name": "stdout",
     "output_type": "stream",
     "text": [
      "Original 3x3 Matrix:\n",
      "[[0.95799607 0.18170204 0.57421873]\n",
      " [0.22305098 0.41138129 0.14850933]\n",
      " [0.9797537  0.76732418 0.68385779]]\n",
      "Element-wise Square Root:\n",
      "[[0.97877274 0.42626522 0.75777221]\n",
      " [0.47228273 0.64139013 0.38536908]\n",
      " [0.98982509 0.87597042 0.82695694]]\n"
     ]
    }
   ],
   "source": [
    "#Q.24 Generate a 3×3 random matrix and apply element-wise square root.\n",
    "matrix_3x3 = np.random.rand(3, 3)\n",
    "elementwise_sqrt = np.sqrt(matrix_3x3)\n",
    "print(\"Original 3x3 Matrix:\")\n",
    "print(matrix_3x3)\n",
    "print(\"Element-wise Square Root:\")\n",
    "print(elementwise_sqrt)"
   ]
  },
  {
   "cell_type": "code",
   "execution_count": 93,
   "id": "0010e23d",
   "metadata": {},
   "outputs": [
    {
     "name": "stdout",
     "output_type": "stream",
     "text": [
      "Original Array:\n",
      "[ 0  1  2  3  4  5  6  7  8  9 10 11 12 13 14 15 16 17 18 19]\n",
      "Reversed Array:\n",
      "[19 18 17 16 15 14 13 12 11 10  9  8  7  6  5  4  3  2  1  0]\n"
     ]
    }
   ],
   "source": [
    "#Q.25 Create a 1D array of 20 elements and reverse it without using Python slicing.\n",
    "arr = np.arange(20)\n",
    "reversed_arr = np.flip(arr)\n",
    "print(\"Original Array:\")\n",
    "print(arr)\n",
    "print(\"Reversed Array:\")\n",
    "print(reversed_arr)"
   ]
  },
  {
   "cell_type": "code",
   "execution_count": 94,
   "id": "a315b4fa",
   "metadata": {},
   "outputs": [
    {
     "name": "stdout",
     "output_type": "stream",
     "text": [
      "Vertical Merge:\n",
      "[[1 2]\n",
      " [3 4]\n",
      " [5 6]\n",
      " [7 8]]\n",
      "Horizontal Merge:\n",
      "[[1 2 5 6]\n",
      " [3 4 7 8]]\n"
     ]
    }
   ],
   "source": [
    "\n",
    "#Q.26 Write a program to merge two NumPy arrays vertically and horizontally.\n",
    "array1 = np.array([[1, 2], [3, 4]])\n",
    "array2 = np.array([[5, 6], [7, 8]])\n",
    "vertical_merge = np.vstack((array1, array2))\n",
    "horizontal_merge = np.hstack((array1, array2))\n",
    "print(\"Vertical Merge:\")\n",
    "print(vertical_merge)\n",
    "print(\"Horizontal Merge:\")\n",
    "print(horizontal_merge)"
   ]
  },
  {
   "cell_type": "code",
   "execution_count": 95,
   "id": "64e41f15",
   "metadata": {},
   "outputs": [
    {
     "name": "stdout",
     "output_type": "stream",
     "text": [
      "Original 2D Matrix:\n",
      "[[14  4  1  2 91]\n",
      " [37 68 65 83 28]\n",
      " [79 76 49 55 32]\n",
      " [65 38 91  3 27]\n",
      " [58 19 72 60 57]]\n",
      "Row-wise Sum:\n",
      "[112 281 291 224 266]\n",
      "Column-wise Sum:\n",
      "[253 205 278 203 235]\n"
     ]
    }
   ],
   "source": [
    "#Q.27 Create a 2D NumPy array and compute row-wise and column-wise sum.\n",
    "matrix_2d = np.random.randint(1, 101, size=(5, 5))\n",
    "row_wise_sum = np.sum(matrix_2d, axis=1)\n",
    "column_wise_sum = np.sum(matrix_2d, axis=0)\n",
    "print(\"Original 2D Matrix:\")\n",
    "print(matrix_2d)\n",
    "print(\"Row-wise Sum:\")\n",
    "print(row_wise_sum)\n",
    "print(\"Column-wise Sum:\")\n",
    "print(column_wise_sum)"
   ]
  },
  {
   "cell_type": "code",
   "execution_count": 96,
   "id": "134f7b64",
   "metadata": {},
   "outputs": [
    {
     "name": "stdout",
     "output_type": "stream",
     "text": [
      "Matrix after replacing NaN values:\n",
      "[[1.  2.  7.5]\n",
      " [4.  5.  6. ]\n",
      " [7.  8.  9. ]]\n"
     ]
    }
   ],
   "source": [
    "\n",
    "#Q.28 Write a NumPy program to replace NaN values in an array with the mean of that column.\n",
    "matrix_with_nan = np.array([[1, 2, np.nan], [4, np.nan, 6], [7, 8, 9]])\n",
    "col_mean = np.nanmean(matrix_with_nan, axis=0)\n",
    "indices = np.where(np.isnan(matrix_with_nan))\n",
    "matrix_with_nan[indices] = np.take(col_mean, indices[1])\n",
    "print(\"Matrix after replacing NaN values:\")\n",
    "print(matrix_with_nan)"
   ]
  },
  {
   "cell_type": "code",
   "execution_count": 98,
   "id": "908f06c4",
   "metadata": {},
   "outputs": [
    {
     "name": "stdout",
     "output_type": "stream",
     "text": [
      "Array 1:\n",
      "[0.36311919 0.71313025 0.55469508 0.39804131 0.92754964 0.28575719\n",
      " 0.65770167 0.20409506 0.69750106 0.48589433]\n",
      "Array 2:\n",
      "[0.53906567 0.29532336 0.23425938 0.12816577 0.61159668 0.75412539\n",
      " 0.64634966 0.94931862 0.3436246  0.931419  ]\n",
      "Cosine Similarity:\n",
      "0.7741118064241872\n"
     ]
    }
   ],
   "source": [
    "\n",
    "#Q.29 Generate two 1D arrays and compute cosine similarity using NumPy.\n",
    "array1 = np.random.rand(10)\n",
    "array2 = np.random.rand(10)\n",
    "cosine_similarity = np.dot(array1, array2) / (np.linalg.norm(array1) * np.linalg.norm(array2))\n",
    "print(\"Array 1:\")\n",
    "print(array1)\n",
    "print(\"Array 2:\")\n",
    "print(array2)\n",
    "print(\"Cosine Similarity:\")\n",
    "print(cosine_similarity)"
   ]
  },
  {
   "cell_type": "code",
   "execution_count": 99,
   "id": "efa502b6",
   "metadata": {},
   "outputs": [
    {
     "name": "stdout",
     "output_type": "stream",
     "text": [
      "Original 4x4 Matrix:\n",
      "[[0.43524195 0.51698178 0.15543549 0.59643996]\n",
      " [0.8014096  0.72728465 0.28367425 0.90351368]\n",
      " [0.66660768 0.13787227 0.51858616 0.40856279]\n",
      " [0.05900883 0.38818444 0.36167098 0.0536087 ]]\n",
      "Rotated 90 Degrees:\n",
      "[[0.59643996 0.90351368 0.40856279 0.0536087 ]\n",
      " [0.15543549 0.28367425 0.51858616 0.36167098]\n",
      " [0.51698178 0.72728465 0.13787227 0.38818444]\n",
      " [0.43524195 0.8014096  0.66660768 0.05900883]]\n"
     ]
    }
   ],
   "source": [
    "#Q.30 Create a 4×4 array and rotate it by 90 degrees using NumPy.\n",
    "matrix_4x4 = np.random.rand(4, 4)\n",
    "rotated_matrix = np.rot90(matrix_4x4)\n",
    "print(\"Original 4x4 Matrix:\")\n",
    "print(matrix_4x4)\n",
    "print(\"Rotated 90 Degrees:\")\n",
    "print(rotated_matrix)"
   ]
  },
  {
   "cell_type": "code",
   "execution_count": 100,
   "id": "56e55554",
   "metadata": {},
   "outputs": [
    {
     "name": "stdout",
     "output_type": "stream",
     "text": [
      "Structured NumPy Array:\n",
      "[('Alice', 20, 85.5) ('Bob', 21, 90. ) ('Charlie', 19, 88. )]\n"
     ]
    }
   ],
   "source": [
    "#Q.31 Write a program to create a structured NumPy array with fields (name, age, marks).\n",
    "dtype = np.dtype([('name', 'U10'), ('age', 'i4'), ('marks', 'f4')])\n",
    "structured_array = np.array([('Alice', 20, 85.5), ('Bob', 21, 90.0), ('Charlie', 19, 88.0)], dtype=dtype)\n",
    "print(\"Structured NumPy Array:\")\n",
    "print(structured_array)"
   ]
  },
  {
   "cell_type": "code",
   "execution_count": 101,
   "id": "80181aba",
   "metadata": {},
   "outputs": [
    {
     "name": "stdout",
     "output_type": "stream",
     "text": [
      "Original 3x3 Matrix:\n",
      "[[0.50841344 0.1348567  0.67239522]\n",
      " [0.3429596  0.70235254 0.29867445]\n",
      " [0.51785226 0.96989572 0.96478598]]\n",
      "Rank of the Matrix:\n",
      "3\n"
     ]
    }
   ],
   "source": [
    "#Q.32 Generate a random 3×3 matrix and compute its rank.\n",
    "matrix_3x3 = np.random.rand(3, 3)\n",
    "matrix_rank = np.linalg.matrix_rank(matrix_3x3)\n",
    "print(\"Original 3x3 Matrix:\")\n",
    "print(matrix_3x3)\n",
    "print(\"Rank of the Matrix:\")\n",
    "print(matrix_rank)"
   ]
  },
  {
   "cell_type": "code",
   "execution_count": 102,
   "id": "def8a845",
   "metadata": {},
   "outputs": [
    {
     "name": "stdout",
     "output_type": "stream",
     "text": [
      "Original 5x5 Matrix:\n",
      "[[0.80194388 0.68778845 0.79105353 0.47429412 0.04912281]\n",
      " [0.71659593 0.62347258 0.42917858 0.58443268 0.07823715]\n",
      " [0.94772703 0.30551635 0.79835448 0.25280409 0.01709728]\n",
      " [0.7757213  0.04822147 0.36920839 0.7401567  0.19509335]\n",
      " [0.11867673 0.66856045 0.60659237 0.00917575 0.46769485]]\n",
      "Normalized 5x5 Matrix:\n",
      "[[0.57146281 0.49011599 0.56370238 0.33798057 0.03500477]\n",
      " [0.59838943 0.5206273  0.35838318 0.48802725 0.06533149]\n",
      " [0.72835333 0.23479741 0.61355656 0.19428664 0.01313971]\n",
      " [0.67357908 0.04187196 0.32059329 0.64269741 0.16940465]\n",
      " [0.11593626 0.65312212 0.592585   0.00896387 0.45689489]]\n"
     ]
    }
   ],
   "source": [
    "#Q.33 Create a 5×5 random matrix and normalize each row to have unit length.\n",
    "matrix_5x5 = np.random.rand(5, 5)\n",
    "row_norms = np.linalg.norm(matrix_5x5, axis=1, keepdims=True)\n",
    "normalized_matrix = matrix_5x5 / row_norms\n",
    "print(\"Original 5x5 Matrix:\")\n",
    "print(matrix_5x5)\n",
    "print(\"Normalized 5x5 Matrix:\")\n",
    "print(normalized_matrix)\n"
   ]
  },
  {
   "cell_type": "code",
   "execution_count": 103,
   "id": "cb7ddea4",
   "metadata": {},
   "outputs": [
    {
     "name": "stdout",
     "output_type": "stream",
     "text": [
      "Array 1:\n",
      "[[1 2]\n",
      " [3 4]]\n",
      "Array 2:\n",
      "[[1 2]\n",
      " [3 4]]\n",
      "Are the two arrays equal?\n",
      "True\n"
     ]
    }
   ],
   "source": [
    "#Q.34 Write a NumPy program to check whether two arrays are equal element-wise.\n",
    "array1 = np.array([[1, 2], [3, 4]])\n",
    "array2 = np.array([[1, 2], [3, 4]])\n",
    "are_equal = np.array_equal(array1, array2)\n",
    "print(\"Array 1:\")\n",
    "print(array1)\n",
    "print(\"Array 2:\")\n",
    "print(array2)\n",
    "print(\"Are the two arrays equal?\")\n",
    "print(are_equal)"
   ]
  },
  {
   "cell_type": "code",
   "execution_count": 106,
   "id": "75a9a58f",
   "metadata": {},
   "outputs": [
    {
     "name": "stdout",
     "output_type": "stream",
     "text": [
      "Histogram:\n",
      "[ 1  4  0  8  3 15 26 27 31 48 50 60 74 89 72 73 84 67 52 52 47 33 30 18\n",
      " 15 11  5  4  0  1]\n",
      "Bin Edges:\n",
      "[-3.0881045  -2.88473998 -2.68137545 -2.47801093 -2.2746464  -2.07128188\n",
      " -1.86791735 -1.66455283 -1.4611883  -1.25782378 -1.05445925 -0.85109473\n",
      " -0.6477302  -0.44436568 -0.24100115 -0.03763663  0.1657279   0.36909242\n",
      "  0.57245694  0.77582147  0.97918599  1.18255052  1.38591504  1.58927957\n",
      "  1.79264409  1.99600862  2.19937314  2.40273767  2.60610219  2.80946672\n",
      "  3.01283124]\n"
     ]
    }
   ],
   "source": [
    "\n",
    "#Q.35 Generate a random dataset of 1000 numbers and compute histogram using NumPy. \n",
    "data = np.random.randn(1000)\n",
    "hist, bin_edges = np.histogram(data, bins=30)\n",
    "print(\"Histogram:\")\n",
    "print(hist)\n",
    "print(\"Bin Edges:\")\n",
    "print(bin_edges)"
   ]
  },
  {
   "cell_type": "code",
   "execution_count": 107,
   "id": "1fc4d5c5",
   "metadata": {},
   "outputs": [
    {
     "name": "stdout",
     "output_type": "stream",
     "text": [
      "Original 2D Array:\n",
      "[[0.76248388 0.96195759 0.06695861]\n",
      " [0.12180572 0.17919023 0.61575679]\n",
      " [0.10924383 0.44119969 0.55005741]\n",
      " [0.35886006 0.44019018 0.05224339]]\n",
      "1D Array:\n",
      "[0.84373031 0.76869809 0.46091717]\n",
      "Result after Broadcasting:\n",
      "[[1.60621419 1.73065568 0.52787578]\n",
      " [0.96553604 0.94788832 1.07667397]\n",
      " [0.95297414 1.20989778 1.01097459]\n",
      " [1.20259037 1.20888827 0.51316057]]\n"
     ]
    }
   ],
   "source": [
    "#Q.36 Create a 2D array and apply broadcasting to add a 1D array.\n",
    "array_2d = np.random.rand(4, 3)\n",
    "array_1d = np.random.rand(3)\n",
    "result = array_2d + array_1d\n",
    "print(\"Original 2D Array:\")\n",
    "print(array_2d)\n",
    "print(\"1D Array:\")\n",
    "print(array_1d)\n",
    "print(\"Result after Broadcasting:\")\n",
    "print(result)"
   ]
  },
  {
   "cell_type": "code",
   "execution_count": 110,
   "id": "4a7f1f97",
   "metadata": {},
   "outputs": [
    {
     "name": "stdout",
     "output_type": "stream",
     "text": [
      "Unique Values:\n",
      "[1 2 3 4 5]\n",
      "Counts:\n",
      "[1 2 1 3 1]\n"
     ]
    }
   ],
   "source": [
    "#Q.37 Write a program to find unique values and their counts in a NumPy array.\n",
    "array = np.array([1, 2, 2, 3, 4, 4, 4, 5])\n",
    "unique, counts = np.unique(array, return_counts=True)\n",
    "print(\"Unique Values:\")\n",
    "print(unique)\n",
    "print(\"Counts:\")\n",
    "print(counts)"
   ]
  },
  {
   "cell_type": "code",
   "execution_count": 112,
   "id": "c01d84e1",
   "metadata": {},
   "outputs": [
    {
     "name": "stdout",
     "output_type": "stream",
     "text": [
      "Array X:\n",
      "[-1.42357983  0.05854224 -1.23483159  0.16546589 -0.35012089 -0.17074581\n",
      "  0.28648015  0.10138857 -1.76993704 -1.44342396 -0.14830246 -0.32936769\n",
      "  1.6725953   1.26566382  0.84840127  0.75768585  0.17662619  0.21024256\n",
      " -0.53509062  1.70966311 -0.00361668 -1.27838623  0.41417207 -0.07728157\n",
      "  0.34770406  0.83919638  1.12659509  1.92692858 -2.3343444  -0.18391676\n",
      " -0.78348606 -0.42550944 -0.88984791 -0.54819005  0.33745824 -2.41297242\n",
      " -0.21820439  1.25136679 -1.60232548 -0.43951674 -0.20582616  1.54452285\n",
      " -0.57568023 -0.91864137  1.5698907   0.68313695 -0.22447464 -0.49311858\n",
      " -0.90581524  0.13111648  0.63266    -0.57509033 -0.65872744  0.58156357\n",
      " -0.99036073  1.21249828  1.11391304  2.30010737 -1.06231287 -1.20708586\n",
      "  0.95964557  1.6140024   0.53336481 -0.97105845 -0.76440431  1.50181912\n",
      "  0.79906231 -1.4625766   0.46266599 -1.35088923 -0.88550321  0.22573954\n",
      "  1.86050084  2.00690996 -0.94734502 -0.47495299 -1.03651356 -0.93447912\n",
      "  0.11725389 -0.05059686 -0.31098274  0.76026784 -0.28440085 -1.46916961\n",
      "  0.06343654  1.23721903 -1.60377935  0.71822409 -0.62815494  1.44260762\n",
      "  0.35666158 -0.13230674 -0.55356631  0.76085455 -0.13007852 -0.73828852\n",
      "  0.4966241  -0.79089806  0.43509843  0.75711226]\n",
      "Array Y:\n",
      "[ 1.69344874 -1.42934151 -2.1484245   1.45265374  2.25307413  0.9611773\n",
      "  0.72002647  0.88340614  0.83145867 -0.61723504  0.03373626  1.81716597\n",
      " -0.36280251 -0.78464558  0.30502628 -0.65188832  0.48435326  1.08809319\n",
      " -0.30627877 -0.14140898 -0.45054045  1.10969055  0.65190293 -0.80628554\n",
      "  0.49532736 -1.87916728 -1.3606135   0.07008187  1.02858799 -0.96220128\n",
      "  1.40239721  0.45980831  0.21466292  0.48256941  1.48902017  0.16949224\n",
      "  1.69603731  0.32142217  0.7477099   0.4052425  -1.00023505 -0.55439372\n",
      "  1.39193199 -1.34830391  1.09993854 -0.37688533  0.38861385 -0.31429881\n",
      " -1.41376815  0.73127738  0.84956518  1.10921889  1.25432726  1.06208302\n",
      "  1.46057522  0.70165608  0.65582265  0.82890048  0.17619692  0.371845\n",
      "  0.74203502  0.52832765 -1.34160588 -0.04715866 -0.30395577 -0.02989005\n",
      " -0.68781117  0.75998212  0.69045262  0.23098642  0.7440953  -1.47619306\n",
      "  0.16602652  2.74738762  0.05548218  1.92699378 -0.66998792  0.31142624\n",
      " -0.05013067  1.75604072 -0.13117365 -0.5586964   0.38870812  1.01884538\n",
      "  1.20241285 -0.2553188   2.01682329  0.64502645  1.96984511 -0.17038665\n",
      " -1.13438671  1.43776256  1.5368662   1.33399618 -0.05273482 -0.26171077\n",
      "  0.6214728  -0.3884249   1.32149765  1.06593258]\n",
      "Pearson Correlation Coefficient:\n",
      "-0.0914561634260594\n"
     ]
    }
   ],
   "source": [
    "#Q.38 Create two arrays and find Pearson correlation coefficient using NumPy.\n",
    "array_x = np.random.randn(100)\n",
    "array_y = np.random.randn(100)\n",
    "correlation_coefficient = np.corrcoef(array_x, array_y)[0, 1]\n",
    "print(\"Array X:\")\n",
    "print(array_x)\n",
    "print(\"Array Y:\")\n",
    "print(array_y)\n",
    "print(\"Pearson Correlation Coefficient:\")\n",
    "print(correlation_coefficient)"
   ]
  },
  {
   "cell_type": "code",
   "execution_count": 113,
   "id": "6a665d53",
   "metadata": {},
   "outputs": [
    {
     "name": "stdout",
     "output_type": "stream",
     "text": [
      "Original Array:\n",
      "[1 2 3 4 5]\n",
      "Numerical Gradient:\n",
      "[1. 1. 1. 1. 1.]\n"
     ]
    }
   ],
   "source": [
    "#Q.39 Write a NumPy program to compute numerical gradient of a 1D array.\n",
    "array = np.array([1, 2, 3, 4, 5])\n",
    "gradient = np.gradient(array)\n",
    "print(\"Original Array:\")\n",
    "print(array)\n",
    "print(\"Numerical Gradient:\")\n",
    "print(gradient)"
   ]
  },
  {
   "cell_type": "code",
   "execution_count": 115,
   "id": "a26c1a3d",
   "metadata": {},
   "outputs": [
    {
     "name": "stdout",
     "output_type": "stream",
     "text": [
      "Original 3x3 Matrix:\n",
      "[[0.77844867 0.96161224 0.57739092]\n",
      " [0.51413477 0.78745149 0.52429542]\n",
      " [0.27429445 0.29727981 0.46848549]]\n",
      "U Matrix:\n",
      "[[-0.74454585  0.38486635  0.54546253]\n",
      " [-0.58762226  0.00989517 -0.80907488]\n",
      " [-0.31678314 -0.92291927  0.21878863]]\n",
      "Singular Values:\n",
      "[1.82867417 0.2353377  0.08378034]\n",
      "VT Matrix:\n",
      "[[-0.52967316 -0.69605711 -0.48471728]\n",
      " [ 0.21898112  0.43987384 -0.87095251]\n",
      " [ 0.81944714 -0.5674641  -0.080566  ]]\n"
     ]
    }
   ],
   "source": [
    "#Q.40 Generate a random 3×3 matrix and perform Singular Value Decomposition (SVD).\n",
    "matrix_3x3 = np.random.rand(3, 3)\n",
    "U, S, VT = np.linalg.svd(matrix_3x3)\n",
    "print(\"Original 3x3 Matrix:\")\n",
    "print(matrix_3x3)\n",
    "print(\"U Matrix:\")\n",
    "print(U)\n",
    "print(\"Singular Values:\")\n",
    "print(S)\n",
    "print(\"VT Matrix:\")\n",
    "print(VT)"
   ]
  }
 ],
 "metadata": {
  "kernelspec": {
   "display_name": "Python 3",
   "language": "python",
   "name": "python3"
  },
  "language_info": {
   "codemirror_mode": {
    "name": "ipython",
    "version": 3
   },
   "file_extension": ".py",
   "mimetype": "text/x-python",
   "name": "python",
   "nbconvert_exporter": "python",
   "pygments_lexer": "ipython3",
   "version": "3.12.4"
  }
 },
 "nbformat": 4,
 "nbformat_minor": 5
}
